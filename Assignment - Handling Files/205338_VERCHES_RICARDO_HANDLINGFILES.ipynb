{
 "cells": [
  {
   "cell_type": "markdown",
   "id": "40a4cec3-5075-4121-88a1-44ef2c97c266",
   "metadata": {},
   "source": [
    "# Assignment: Handling Files\n",
    "\n",
    "This assignment serves as a general synthesis for Module 4. It also serves as your introduction to using files and to coding Python _outside_ of Jupyter.  \n",
    "\n",
    "Please follow all instructions precisely. This is especially important in this assignment, which will ask you to submit a `.py` file instead of a `.ipynb` file."
   ]
  },
  {
   "cell_type": "markdown",
   "id": "d5e7b062-4848-460f-a311-f4ca3c423ddd",
   "metadata": {},
   "source": [
    "## Context\n",
    "\n",
    "**CoffeePython** is a specialty coffee place along Katipunan. It commissioned students to build a crude character-mode terminal based on Python and it ran pretty well.  \n",
    "\n",
    "Due to the Covid-19 Pandemic that forced businesses to shut down, however, it had to pivot its business to online deliveries. The direction, however, is to make sure that the current Point-of-Sale (POS) system being used in the branches still works. There are some missing pieces that need to be reprogrammed again.  \n",
    "\n",
    "CoffeePython has the following products:  \n",
    "\n",
    "| Code | ProductName | Price |\n",
    "| --- | --- | --- |\n",
    "| americano | Americano | 150.00 |\n",
    "| brewedcoffee | Brewed Coffee | 150.00 |\n",
    "| cappuccino | Cappuccino | 150.00 |\n",
    "| dalgona | Dalgona | 150.00 |\n",
    "| espresso | Espresso | 150.00 |\n",
    "| frappuccino | Frappuccino | 150.00 |  \n",
    "\n",
    "The old programmers of Coffee Python encoded this data in a dictionary:"
   ]
  },
  {
   "cell_type": "code",
   "execution_count": 1,
   "id": "f5740def-08bd-4bfa-8179-da9d5c8a7ff3",
   "metadata": {},
   "outputs": [],
   "source": [
    "# NON-INTERACTIVE CODE CELL. YOU MAY RUN THIS CELL, BUT DO NOT EDIT IT.\n",
    "# FOR DEMONSTRATION PURPOSES ONLY. DO NOT EDIT.\n",
    "\n",
    "products = {\n",
    "    \"americano\":{\"name\":\"Americano\",\"price\":150.00},\n",
    "    \"brewedcoffee\":{\"name\":\"Brewed Coffee\",\"price\":110.00},\n",
    "    \"cappuccino\":{\"name\":\"Cappuccino\",\"price\":170.00},\n",
    "    \"dalgona\":{\"name\":\"Dalgona\",\"price\":170.00},\n",
    "    \"espresso\":{\"name\":\"Espresso\",\"price\":140.00},\n",
    "    \"frappuccino\":{\"name\":\"Frappuccino\",\"price\":170.00},\n",
    "}"
   ]
  },
  {
   "cell_type": "markdown",
   "id": "ea04be59-11d0-4da1-95b3-777822a0c90a",
   "metadata": {},
   "source": [
    "## Problem 1: Product Information Lookup\n",
    "\n",
    "Write a function called `get_product` that takes one positional argument (str) `code` that is a product code of one of Coffee Python's products. The function should return the dictionary containing the information about the product whose code was passed to the function.  \n",
    "\n",
    "For example,  \n",
    "`get_product(\"espresso\")`  \n",
    "\n",
    "should return\n",
    "\n",
    "`{\"name\":\"Espresso\",\"price\":140.00}`"
   ]
  },
  {
   "cell_type": "code",
   "execution_count": 2,
   "id": "3e606498-b9cb-494d-ad22-4d17017ac37b",
   "metadata": {},
   "outputs": [
    {
     "data": {
      "text/plain": [
       "{'name': 'Americano', 'price': 150.0}"
      ]
     },
     "execution_count": 2,
     "metadata": {},
     "output_type": "execute_result"
    }
   ],
   "source": [
    "# CODE CELL\n",
    "# PROBLEM 1\n",
    "def get_product(code):\n",
    "    info = products[code]\n",
    "    return info\n",
    "\n",
    "get_product(\"americano\")"
   ]
  },
  {
   "cell_type": "markdown",
   "id": "f5798efd-75f3-4107-9a15-56a550f604b5",
   "metadata": {},
   "source": [
    "## Problem 2: Product Property Lookup\n",
    "\n",
    "Write a function called `get_property` that takes two positional arguments: (str) `code` and (str) `property`. The function should return the value appropriate property for the product code entered.  \n",
    "\n",
    "For example,  \n",
    "`get_property(\"espresso\", \"price\")`  \n",
    "\n",
    "should return  \n",
    "\n",
    "`140.0` or an equivalent float.  "
   ]
  },
  {
   "cell_type": "code",
   "execution_count": 3,
   "id": "a07b419b-8a5f-44a6-af09-4cbef3b29e61",
   "metadata": {},
   "outputs": [
    {
     "data": {
      "text/plain": [
       "170.0"
      ]
     },
     "execution_count": 3,
     "metadata": {},
     "output_type": "execute_result"
    }
   ],
   "source": [
    "# CODE CELL\n",
    "# PROBLEM 2\n",
    "def get_property(code,property):\n",
    "    value = products[code][property]\n",
    "    return value\n",
    "\n",
    "get_property(\"dalgona\",\"price\")"
   ]
  },
  {
   "cell_type": "markdown",
   "id": "3902ee4a-aef0-4efa-bbf9-ada8f137eadb",
   "metadata": {},
   "source": [
    "## Problem 3: The Point-of-Sale Terminal\n",
    "\n",
    "Write a function called `main` that takes no positional arguments. This function should not return anything.  \n",
    "\n",
    "When this function is called, it should begin a session. The session should prompt its user, the clerk, to input data about a customer's orders until the clerk enters the string `\"/\"`.  \n",
    "\n",
    "Each line of input consists of two elements: the product code and the quantity. Lines of input are formatted as follows: `\"{product_code},{quantity}\"`.  \n",
    "\n",
    "It is up to you how you will store data about orders. Please use your functions from Problem 1 and Problem 2 in answering this problem.  \n",
    "\n",
    "The function should _write a file_ called `receipt.txt` that provides a summarized report of the session. The receipt should be formatted as follows:  "
   ]
  },
  {
   "cell_type": "code",
   "execution_count": 4,
   "id": "6102d24c-b4de-4071-8cbb-bbe27b7302ef",
   "metadata": {},
   "outputs": [
    {
     "name": "stdout",
     "output_type": "stream",
     "text": [
      "\n",
      "==\n",
      "CODE\t\t\tNAME\t\t\tQUANTITY\t\t\tSUBTOTAL\n",
      "{code}\t\t\t{name}\t\t\t{quantity}\t\t\t{subtotal}\n",
      "\n",
      "Total:\t\t\t\t\t\t\t\t\t\t{total}\n",
      "==\n",
      "\n"
     ]
    }
   ],
   "source": [
    "# NON-INTERACTIVE CODE CELL. YOU MAY RUN THIS CELL, BUT DO NOT EDIT IT.\n",
    "# FOR DEMONSTRATION PURPOSES ONLY. DO NOT EDIT.  \n",
    "\n",
    "# ADJUST THE NUMBER OF TABS AS NECESSARY TO FORMAT IT NICELY.\n",
    "print('''\n",
    "==\n",
    "CODE\\t\\t\\tNAME\\t\\t\\tQUANTITY\\t\\t\\tSUBTOTAL\n",
    "{code}\\t\\t\\t{name}\\t\\t\\t{quantity}\\t\\t\\t{subtotal}\n",
    "\n",
    "Total:\\t\\t\\t\\t\\t\\t\\t\\t\\t\\t{total}\n",
    "==\n",
    "''')"
   ]
  },
  {
   "cell_type": "code",
   "execution_count": 20,
   "id": "a09938ee-9d89-4f62-8014-f90ac38db71c",
   "metadata": {},
   "outputs": [
    {
     "name": "stdout",
     "output_type": "stream",
     "text": [
      "\n",
      "==\n",
      "CODE\t\t\tNAME\t\t\tQUANTITY\t\t\tSUBTOTAL\n",
      "cappuccino\t\tCappuccino\t\t1\t\t\t\t170.0\n",
      "brewedcoffee\t\tBrewed Coffee\t\t5\t\t\t\t550.0\n",
      "\n",
      "Total:\t\t\t\t\t\t\t\t\t\t720.0\n",
      "==\n",
      "\n"
     ]
    }
   ],
   "source": [
    "# NON-INTERACTIVE CODE CELL. YOU MAY RUN THIS CELL, BUT DO NOT EDIT IT.\n",
    "# FOR DEMONSTRATION PURPOSES ONLY. DO NOT EDIT.  \n",
    "\n",
    "# Example:\n",
    "print('''\n",
    "==\n",
    "CODE\\t\\t\\tNAME\\t\\t\\tQUANTITY\\t\\t\\tSUBTOTAL\n",
    "cappuccino\\t\\tCappuccino\\t\\t1\\t\\t\\t\\t170.0\n",
    "brewedcoffee\\t\\tBrewed Coffee\\t\\t5\\t\\t\\t\\t550.0\n",
    "\n",
    "Total:\\t\\t\\t\\t\\t\\t\\t\\t\\t\\t720.0\n",
    "==\n",
    "''')"
   ]
  },
  {
   "cell_type": "markdown",
   "id": "b550a2d3-b62e-4259-bc46-dbe21d878758",
   "metadata": {},
   "source": [
    "Specifications:\n",
    "1. The receipt should provide a summary of all the orders made during the session.  \n",
    "2. A product must only appear if it has been ordered at least once during the session. In other words, if a product is not ordered, then it should not appear in the receipt.  \n",
    "3. A product must appear only once even if it has been ordered multiple times. In other words, if a product is ordered multiple times, then it should only have one entry in the receipt that describes the sum of all of the orders made for that product.\n",
    "4. Products must appear in alphabetical order."
   ]
  },
  {
   "cell_type": "code",
   "execution_count": 4,
   "id": "ae43e82b-592c-40a9-9c69-49442577f5a7",
   "metadata": {},
   "outputs": [
    {
     "name": "stdout",
     "output_type": "stream",
     "text": [
      "Input Product and Quantity: dalgona,2\n",
      "Input Product and Quantity: dalgona,3\n",
      "Input Product and Quantity: americano,4\n",
      "Input Product and Quantity: americano,5\n",
      "Input Product and Quantity: /,\n"
     ]
    }
   ],
   "source": [
    "# CODE CELL\n",
    "# PROBLEM 3\n",
    "def main():\n",
    "    txt = \"CODE\\t\\t\\tNAME\\t\\t\\tQUANTITY\\t\\t\\tSUBTOTAL\\n\"\n",
    "    total = 0\n",
    "    lst = []\n",
    "    while True:\n",
    "        #have to input /, in order to break\n",
    "        code,quantity = input(\"Input Product and Quantity: \").split(\",\")\n",
    "        if code != \"/\":\n",
    "            if code in lst:\n",
    "                if code == \"dalgona\" or code == \"espresso\":\n",
    "                    x = txt.find(code)\n",
    "                    y = txt[int(x)+20]\n",
    "                    z = str(int(y)+int(quantity))\n",
    "                    txt = txt.replace(y,z)\n",
    "                    cost = str(get_property(code,\"price\")*int(quantity))\n",
    "                    total += float(cost)\n",
    "                    a = txt[int(x)+25:-1]\n",
    "                    b = str(float(a)+float(cost))\n",
    "                    txt = txt.replace(a,b)\n",
    "                    \n",
    "                elif code == \"americano\":\n",
    "                    x = txt.find(code)\n",
    "                    y = txt[int(x)+22]\n",
    "                    z = str(int(y)+int(quantity))\n",
    "                    txt = txt.replace(y,z)\n",
    "                    cost = str(get_property(code,\"price\")*int(quantity))\n",
    "                    total += float(cost)\n",
    "                    a = txt[int(x)+27:-1]\n",
    "                    b = str(float(a)+float(cost))\n",
    "                    txt = txt.replace(a,b)\n",
    "                elif code == \"cappuccino\":\n",
    "                    x = txt.find(code)\n",
    "                    y = txt[int(x)+24]\n",
    "                    z = str(int(y)+int(quantity))\n",
    "                    txt = txt.replace(y,z)\n",
    "                    cost = str(get_property(code,\"price\")*int(quantity))\n",
    "                    total += float(cost)\n",
    "                    a = txt[int(x)+29:-1]\n",
    "                    b = str(float(a)+float(cost))\n",
    "                    txt = txt.replace(a,b)\n",
    "                elif code == \"frappuccino\":\n",
    "                    x = txt.find(code)\n",
    "                    y = txt[int(x)+26]\n",
    "                    z = str(int(y)+int(quantity))\n",
    "                    txt = txt.replace(y,z)\n",
    "                    cost = str(get_property(code,\"price\")*int(quantity))\n",
    "                    total += float(cost)\n",
    "                    a = txt[int(x)+30:-1]\n",
    "                    b = str(float(a)+float(cost))\n",
    "                    txt = txt.replace(a,b)\n",
    "                else:\n",
    "                    x = txt.find(code)\n",
    "                    y = txt[int(x)+29]\n",
    "                    z = str(int(y)+int(quantity))\n",
    "                    txt = txt.replace(y,z)\n",
    "                    cost = str(get_property(code,\"price\")*int(quantity))\n",
    "                    total += float(cost)\n",
    "                    a = txt[int(x)+34:-1]\n",
    "                    b = str(float(a)+float(cost))\n",
    "                    txt = txt.replace(a,b)\n",
    "            else:\n",
    "                if code == \"dalgona\":\n",
    "                    cost = str(get_property(code,\"price\")*int(quantity))\n",
    "                    txt += f\"{code}\\t\\t\\t\"\n",
    "                    txt += str(get_property(code,\"name\"))\n",
    "                    txt += f\"\\t\\t\\t{quantity}\\t\\t\\t\\t\"\n",
    "                    txt += f\"{cost}\\n\"\n",
    "                    total += float(cost)\n",
    "                    lst.append(code)\n",
    "                else:\n",
    "                    cost = str(get_property(code,\"price\")*int(quantity))\n",
    "                    txt += f\"{code}\\t\\t\"\n",
    "                    txt += str(get_property(code,\"name\"))\n",
    "                    txt += f\"\\t\\t{quantity}\\t\\t\\t\\t\"\n",
    "                    txt += f\"{cost}\\n\"\n",
    "                    total += float(cost)\n",
    "                    lst.append(code)\n",
    "        else:\n",
    "            break\n",
    "    txt += f\"Total:\\t\\t\\t\\t\\t\\t\\t\\t\\t\\t{total}\"\n",
    "    with open(\"receipt.txt\",\"w\") as f:\n",
    "        f.write(txt)\n",
    "    \n",
    "    \n",
    "    \n",
    "    #print(txt)\n",
    "        \n",
    "    \n",
    "\n",
    "main()    "
   ]
  },
  {
   "cell_type": "markdown",
   "id": "900ece59-6eb3-4542-ac80-c79310be4617",
   "metadata": {},
   "source": [
    "## Problem 4: Final Instructions (28 points)\n",
    "\n",
    "Paste the `products` dictionary and all three of your functions into a regular Python file called `[ID_NUM]_[LAST_NAME]_[FIRST_NAME]_HANDLINGFILES.py` (e.g., 199999_ILAGAN_JOSERAMON_HANDLINGFILES.py) and call the `main()` function once at the very bottom of the file.  \n",
    "\n",
    "The program should run properly when it is run using the `python` command.  \n",
    "\n",
    "Only Python files will be checked. Jupyter notebooks will not be checked.  "
   ]
  },
  {
   "cell_type": "code",
   "execution_count": null,
   "id": "9c961d47-8b5f-4989-865e-3842f1f48b6b",
   "metadata": {},
   "outputs": [],
   "source": []
  }
 ],
 "metadata": {
  "kernelspec": {
   "display_name": "Python 3",
   "language": "python",
   "name": "python3"
  },
  "language_info": {
   "codemirror_mode": {
    "name": "ipython",
    "version": 3
   },
   "file_extension": ".py",
   "mimetype": "text/x-python",
   "name": "python",
   "nbconvert_exporter": "python",
   "pygments_lexer": "ipython3",
   "version": "3.8.8"
  }
 },
 "nbformat": 4,
 "nbformat_minor": 5
}
